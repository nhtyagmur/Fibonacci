{
  "nbformat": 4,
  "nbformat_minor": 0,
  "metadata": {
    "colab": {
      "provenance": [],
      "authorship_tag": "ABX9TyOKXWUHpyRS8TkEYWBFsKey",
      "include_colab_link": true
    },
    "kernelspec": {
      "name": "python3",
      "display_name": "Python 3"
    },
    "language_info": {
      "name": "python"
    }
  },
  "cells": [
    {
      "cell_type": "markdown",
      "metadata": {
        "id": "view-in-github",
        "colab_type": "text"
      },
      "source": [
        "<a href=\"https://colab.research.google.com/github/nhtyagmur/Fibonacci/blob/master/complex_numbers1.ipynb\" target=\"_parent\"><img src=\"https://colab.research.google.com/assets/colab-badge.svg\" alt=\"Open In Colab\"/></a>"
      ]
    },
    {
      "cell_type": "code",
      "execution_count": null,
      "metadata": {
        "id": "pKkTHCHKoTFz"
      },
      "outputs": [],
      "source": [
        "import math"
      ]
    },
    {
      "cell_type": "code",
      "source": [
        "import sympy as sy"
      ],
      "metadata": {
        "id": "tyN3HLYMNe3_"
      },
      "execution_count": null,
      "outputs": []
    },
    {
      "cell_type": "code",
      "source": [
        "z=sy.symbols(\"z\")\n",
        "z"
      ],
      "metadata": {
        "colab": {
          "base_uri": "https://localhost:8080/",
          "height": 39
        },
        "id": "OKhSqQIbOQYK",
        "outputId": "3c62245d-67e3-4c6d-99b0-ca058dc955fc"
      },
      "execution_count": null,
      "outputs": [
        {
          "output_type": "execute_result",
          "data": {
            "text/plain": [
              "z"
            ],
            "text/latex": "$\\displaystyle z$"
          },
          "metadata": {},
          "execution_count": 3
        }
      ]
    },
    {
      "cell_type": "code",
      "source": [
        "z=2*sy.sqrt(3)-2*sy.I\n",
        "z"
      ],
      "metadata": {
        "colab": {
          "base_uri": "https://localhost:8080/",
          "height": 40
        },
        "id": "M1OSlSsXOoPg",
        "outputId": "0d9730cc-d018-4034-d781-368a17c4c550"
      },
      "execution_count": null,
      "outputs": [
        {
          "output_type": "execute_result",
          "data": {
            "text/plain": [
              "2*sqrt(3) - 2*I"
            ],
            "text/latex": "$\\displaystyle 2 \\sqrt{3} - 2 i$"
          },
          "metadata": {},
          "execution_count": 5
        }
      ]
    },
    {
      "cell_type": "code",
      "source": [
        "sy.re(z)"
      ],
      "metadata": {
        "colab": {
          "base_uri": "https://localhost:8080/",
          "height": 38
        },
        "id": "nPJMUlAqPFP6",
        "outputId": "de3c37c6-4b5b-492a-ce70-c16bfe90234b"
      },
      "execution_count": null,
      "outputs": [
        {
          "output_type": "execute_result",
          "data": {
            "text/plain": [
              "2*sqrt(3)"
            ],
            "text/latex": "$\\displaystyle 2 \\sqrt{3}$"
          },
          "metadata": {},
          "execution_count": 7
        }
      ]
    },
    {
      "cell_type": "code",
      "source": [
        "sy.im(z)"
      ],
      "metadata": {
        "colab": {
          "base_uri": "https://localhost:8080/",
          "height": 37
        },
        "id": "wzp0O6g5PRH7",
        "outputId": "16d167d3-7722-4969-e17f-9b4ab080f1ef"
      },
      "execution_count": null,
      "outputs": [
        {
          "output_type": "execute_result",
          "data": {
            "text/plain": [
              "-2"
            ],
            "text/latex": "$\\displaystyle -2$"
          },
          "metadata": {},
          "execution_count": 8
        }
      ]
    },
    {
      "cell_type": "code",
      "source": [
        "sy.conjugate(z)"
      ],
      "metadata": {
        "colab": {
          "base_uri": "https://localhost:8080/",
          "height": 40
        },
        "id": "NOHDN-JUPVZL",
        "outputId": "213f98b4-b0e2-4fe7-9024-74269cf93a6a"
      },
      "execution_count": null,
      "outputs": [
        {
          "output_type": "execute_result",
          "data": {
            "text/plain": [
              "2*sqrt(3) + 2*I"
            ],
            "text/latex": "$\\displaystyle 2 \\sqrt{3} + 2 i$"
          },
          "metadata": {},
          "execution_count": 9
        }
      ]
    },
    {
      "cell_type": "code",
      "source": [
        "z.conjugate()"
      ],
      "metadata": {
        "colab": {
          "base_uri": "https://localhost:8080/",
          "height": 40
        },
        "id": "V7xP0vOEPge3",
        "outputId": "20834f03-2aa4-4102-9ed3-54e3081d5868"
      },
      "execution_count": null,
      "outputs": [
        {
          "output_type": "execute_result",
          "data": {
            "text/plain": [
              "2*sqrt(3) + 2*I"
            ],
            "text/latex": "$\\displaystyle 2 \\sqrt{3} + 2 i$"
          },
          "metadata": {},
          "execution_count": 10
        }
      ]
    },
    {
      "cell_type": "code",
      "source": [
        "sy.arg(z)"
      ],
      "metadata": {
        "colab": {
          "base_uri": "https://localhost:8080/",
          "height": 47
        },
        "id": "No2cC3x-P-aj",
        "outputId": "d02738c0-b7a9-4af0-a827-f0442a8b2eed"
      },
      "execution_count": null,
      "outputs": [
        {
          "output_type": "execute_result",
          "data": {
            "text/plain": [
              "-pi/6"
            ],
            "text/latex": "$\\displaystyle - \\frac{\\pi}{6}$"
          },
          "metadata": {},
          "execution_count": 12
        }
      ]
    },
    {
      "cell_type": "code",
      "source": [
        "abs(z)"
      ],
      "metadata": {
        "colab": {
          "base_uri": "https://localhost:8080/",
          "height": 37
        },
        "id": "Cxnuza6PQZ0d",
        "outputId": "49dbcf28-1b5b-4c06-e9a6-cd0705017f9e"
      },
      "execution_count": null,
      "outputs": [
        {
          "output_type": "execute_result",
          "data": {
            "text/plain": [
              "4"
            ],
            "text/latex": "$\\displaystyle 4$"
          },
          "metadata": {},
          "execution_count": 14
        }
      ]
    },
    {
      "cell_type": "code",
      "source": [
        "z=sy.symbols(\"z\")"
      ],
      "metadata": {
        "id": "ie9Cs_zDZxdm"
      },
      "execution_count": null,
      "outputs": []
    },
    {
      "cell_type": "code",
      "source": [
        "sol = sy.solve(z**3 - (-(11)**(sy.S(1)/3) + \n",
        "                       sy.I * (11)**(sy.S(1)/3)))"
      ],
      "metadata": {
        "id": "kXnPwgpwXaht"
      },
      "execution_count": null,
      "outputs": []
    },
    {
      "cell_type": "code",
      "source": [
        "for w in sol:\n",
        "    print(w.evalf())"
      ],
      "metadata": {
        "colab": {
          "base_uri": "https://localhost:8080/"
        },
        "id": "PItheerCZJfN",
        "outputId": "80c9aa92-0837-40eb-db99-415fbecd5043"
      },
      "execution_count": null,
      "outputs": [
        {
          "output_type": "stream",
          "name": "stdout",
          "text": [
            "1.03601720195391 + 1.03601720195391*I\n",
            "0.379208614672804 - 1.41522581662671*I\n",
            "-1.41522581662671 + 0.379208614672804*I\n"
          ]
        }
      ]
    },
    {
      "cell_type": "code",
      "source": [
        "sol1=sy.solve(z**5-32)"
      ],
      "metadata": {
        "id": "rGJ94K8Ba0ax"
      },
      "execution_count": null,
      "outputs": []
    },
    {
      "cell_type": "code",
      "source": [
        "for w in sol1:\n",
        "    print(w.evalf())"
      ],
      "metadata": {
        "colab": {
          "base_uri": "https://localhost:8080/"
        },
        "id": "8MEMvNiTcPhq",
        "outputId": "db6f15c5-b9c2-40fe-e98e-cea7b7666855"
      },
      "execution_count": null,
      "outputs": [
        {
          "output_type": "stream",
          "name": "stdout",
          "text": [
            "2.00000000000000\n",
            "0.618033988749895 - 1.90211303259031*I\n",
            "0.618033988749895 + 1.90211303259031*I\n",
            "-1.61803398874989 - 1.17557050458495*I\n",
            "-1.61803398874989 + 1.17557050458495*I\n"
          ]
        }
      ]
    },
    {
      "cell_type": "code",
      "source": [
        "w=2*sy.exp(sy.I*2*sy.pi/5)\n",
        "w"
      ],
      "metadata": {
        "colab": {
          "base_uri": "https://localhost:8080/",
          "height": 41
        },
        "id": "Phh3DCJcdOMv",
        "outputId": "57ab905f-835b-45cc-8f35-63ae165ccc60"
      },
      "execution_count": null,
      "outputs": [
        {
          "output_type": "execute_result",
          "data": {
            "text/plain": [
              "2*exp(2*I*pi/5)"
            ],
            "text/latex": "$\\displaystyle 2 e^{\\frac{2 i \\pi}{5}}$"
          },
          "metadata": {},
          "execution_count": 34
        }
      ]
    },
    {
      "cell_type": "code",
      "source": [
        "w.evalf()"
      ],
      "metadata": {
        "colab": {
          "base_uri": "https://localhost:8080/",
          "height": 39
        },
        "id": "D0fri9azdxC2",
        "outputId": "fb067d96-d0af-4f31-faf8-be3effaadf6e"
      },
      "execution_count": null,
      "outputs": [
        {
          "output_type": "execute_result",
          "data": {
            "text/plain": [
              "0.618033988749895 + 1.90211303259031*I"
            ],
            "text/latex": "$\\displaystyle 0.618033988749895 + 1.90211303259031 i$"
          },
          "metadata": {},
          "execution_count": 35
        }
      ]
    },
    {
      "cell_type": "code",
      "source": [
        " sol2=sy.solve(z**10+z**9)"
      ],
      "metadata": {
        "id": "p0lAZpLReMyc"
      },
      "execution_count": null,
      "outputs": []
    },
    {
      "cell_type": "code",
      "source": [
        "for w in sol2:\n",
        "    print(w.evalf())"
      ],
      "metadata": {
        "id": "4R9Fmrukibhh",
        "outputId": "5c1ae2af-ba35-4e56-b471-bf2aedb94555",
        "colab": {
          "base_uri": "https://localhost:8080/"
        }
      },
      "execution_count": null,
      "outputs": [
        {
          "output_type": "stream",
          "name": "stdout",
          "text": [
            "-1.00000000000000\n",
            "0\n"
          ]
        }
      ]
    }
  ]
}