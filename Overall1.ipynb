{
  "nbformat": 4,
  "nbformat_minor": 0,
  "metadata": {
    "colab": {
      "provenance": [],
      "authorship_tag": "ABX9TyNNkRrQniHHMF5rJdX9mCzl",
      "include_colab_link": true
    },
    "kernelspec": {
      "name": "python3",
      "display_name": "Python 3"
    },
    "language_info": {
      "name": "python"
    }
  },
  "cells": [
    {
      "cell_type": "markdown",
      "metadata": {
        "id": "view-in-github",
        "colab_type": "text"
      },
      "source": [
        "<a href=\"https://colab.research.google.com/github/nhtyagmur/Fibonacci/blob/master/Overall1.ipynb\" target=\"_parent\"><img src=\"https://colab.research.google.com/assets/colab-badge.svg\" alt=\"Open In Colab\"/></a>"
      ]
    },
    {
      "cell_type": "code",
      "source": [
        "import math"
      ],
      "metadata": {
        "id": "BFGH4PDUzWcF"
      },
      "execution_count": null,
      "outputs": []
    },
    {
      "cell_type": "code",
      "source": [
        "import sympy as sy"
      ],
      "metadata": {
        "id": "4SU7dcsfzYrR"
      },
      "execution_count": null,
      "outputs": []
    },
    {
      "cell_type": "code",
      "source": [
        "import numpy as np"
      ],
      "metadata": {
        "id": "ILNY6rEuzbbX"
      },
      "execution_count": null,
      "outputs": []
    },
    {
      "cell_type": "code",
      "source": [
        "import matplotlib.pyplot as plt"
      ],
      "metadata": {
        "id": "1rHyK0n0zexS"
      },
      "execution_count": null,
      "outputs": []
    },
    {
      "cell_type": "code",
      "source": [
        "x=sy.symbols('x')"
      ],
      "metadata": {
        "id": "XcQFJPgCxJps"
      },
      "execution_count": null,
      "outputs": []
    },
    {
      "cell_type": "code",
      "source": [
        "(1/3)*sy.integrate(x**2+1, (x,-1,2))"
      ],
      "metadata": {
        "colab": {
          "base_uri": "https://localhost:8080/",
          "height": 37
        },
        "id": "6EDNiI4bxBdt",
        "outputId": "05ec7232-9f67-49ea-f9e3-dc86b9ddfbc2"
      },
      "execution_count": null,
      "outputs": [
        {
          "output_type": "execute_result",
          "data": {
            "text/plain": [
              "2.00000000000000"
            ],
            "text/latex": "$\\displaystyle 2.0$"
          },
          "metadata": {},
          "execution_count": 7
        }
      ]
    },
    {
      "cell_type": "code",
      "source": [
        "(1/2)*sy.integrate(sy.sqrt(1-x**2), (x,-1,1)).evalf()"
      ],
      "metadata": {
        "colab": {
          "base_uri": "https://localhost:8080/",
          "height": 37
        },
        "id": "StEFTo40zUVx",
        "outputId": "83248a80-b96a-4fa9-fafd-d0273c1b4866"
      },
      "execution_count": null,
      "outputs": [
        {
          "output_type": "execute_result",
          "data": {
            "text/plain": [
              "0.785398163397448"
            ],
            "text/latex": "$\\displaystyle 0.785398163397448$"
          },
          "metadata": {},
          "execution_count": 10
        }
      ]
    },
    {
      "cell_type": "code",
      "source": [
        "round((1/12)*sy.integrate(15+10*sy.sin(sy.pi*x/12), (x,0,12)).evalf(),2)"
      ],
      "metadata": {
        "colab": {
          "base_uri": "https://localhost:8080/",
          "height": 37
        },
        "id": "jJQOChU40hS9",
        "outputId": "26eb713e-9b84-41a3-b456-f222108edfd8"
      },
      "execution_count": null,
      "outputs": [
        {
          "output_type": "execute_result",
          "data": {
            "text/plain": [
              "21.37"
            ],
            "text/latex": "$\\displaystyle 21.37$"
          },
          "metadata": {},
          "execution_count": 12
        }
      ]
    },
    {
      "cell_type": "code",
      "execution_count": null,
      "metadata": {
        "id": "22ONJSsGaG4l"
      },
      "outputs": [],
      "source": [
        "def seq(n):\n",
        "  if n==1:\n",
        "    return 0\n",
        "  else:\n",
        "    return (1/4)*(seq(n-1)-3)"
      ]
    },
    {
      "cell_type": "code",
      "source": [
        "for i in range(1,30):\n",
        "  print(seq(i))"
      ],
      "metadata": {
        "colab": {
          "base_uri": "https://localhost:8080/"
        },
        "id": "O2r1QEN3llO9",
        "outputId": "17a5550b-3452-43d0-e66a-9dfd2a224556"
      },
      "execution_count": null,
      "outputs": [
        {
          "output_type": "stream",
          "name": "stdout",
          "text": [
            "0\n",
            "-0.75\n",
            "-0.9375\n",
            "-0.984375\n",
            "-0.99609375\n",
            "-0.9990234375\n",
            "-0.999755859375\n",
            "-0.99993896484375\n",
            "-0.9999847412109375\n",
            "-0.9999961853027344\n",
            "-0.9999990463256836\n",
            "-0.9999997615814209\n",
            "-0.9999999403953552\n",
            "-0.9999999850988388\n",
            "-0.9999999962747097\n",
            "-0.9999999990686774\n",
            "-0.9999999997671694\n",
            "-0.9999999999417923\n",
            "-0.9999999999854481\n",
            "-0.999999999996362\n",
            "-0.9999999999990905\n",
            "-0.9999999999997726\n",
            "-0.9999999999999432\n",
            "-0.9999999999999858\n",
            "-0.9999999999999964\n",
            "-0.9999999999999991\n",
            "-0.9999999999999998\n",
            "-1.0\n",
            "-1.0\n"
          ]
        }
      ]
    },
    {
      "cell_type": "code",
      "source": [
        "def seq1(n):\n",
        "  if n==0:\n",
        "    return 1\n",
        "  elif n==1:\n",
        "    return 2\n",
        "  else:\n",
        "    return 1/(seq1(n-1)*seq1(n-2))"
      ],
      "metadata": {
        "id": "x3SAd2UesVSt"
      },
      "execution_count": null,
      "outputs": []
    },
    {
      "cell_type": "code",
      "source": [
        "for i in range (20):\n",
        "  print(seq1(i))"
      ],
      "metadata": {
        "colab": {
          "base_uri": "https://localhost:8080/"
        },
        "id": "Y4B30UyPsqOd",
        "outputId": "bf7e3107-870c-4d0c-da05-8a721771a345"
      },
      "execution_count": null,
      "outputs": [
        {
          "output_type": "stream",
          "name": "stdout",
          "text": [
            "1\n",
            "2\n",
            "0.5\n",
            "1.0\n",
            "2.0\n",
            "0.5\n",
            "1.0\n",
            "2.0\n",
            "0.5\n",
            "1.0\n",
            "2.0\n",
            "0.5\n",
            "1.0\n",
            "2.0\n",
            "0.5\n",
            "1.0\n",
            "2.0\n",
            "0.5\n",
            "1.0\n",
            "2.0\n"
          ]
        }
      ]
    }
  ]
}