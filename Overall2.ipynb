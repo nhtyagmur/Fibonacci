{
  "nbformat": 4,
  "nbformat_minor": 0,
  "metadata": {
    "colab": {
      "provenance": [],
      "include_colab_link": true
    },
    "kernelspec": {
      "name": "python3",
      "display_name": "Python 3"
    },
    "language_info": {
      "name": "python"
    }
  },
  "cells": [
    {
      "cell_type": "markdown",
      "metadata": {
        "id": "view-in-github",
        "colab_type": "text"
      },
      "source": [
        "<a href=\"https://colab.research.google.com/github/nhtyagmur/Fibonacci/blob/master/Overall2.ipynb\" target=\"_parent\"><img src=\"https://colab.research.google.com/assets/colab-badge.svg\" alt=\"Open In Colab\"/></a>"
      ]
    },
    {
      "cell_type": "code",
      "source": [
        "import math"
      ],
      "metadata": {
        "id": "BFGH4PDUzWcF"
      },
      "execution_count": 18,
      "outputs": []
    },
    {
      "cell_type": "code",
      "source": [
        "import sympy as sy"
      ],
      "metadata": {
        "id": "4SU7dcsfzYrR"
      },
      "execution_count": 25,
      "outputs": []
    },
    {
      "cell_type": "code",
      "source": [
        "import numpy as np"
      ],
      "metadata": {
        "id": "ILNY6rEuzbbX"
      },
      "execution_count": 26,
      "outputs": []
    },
    {
      "cell_type": "code",
      "source": [
        "import matplotlib.pyplot as plt"
      ],
      "metadata": {
        "id": "1rHyK0n0zexS"
      },
      "execution_count": 27,
      "outputs": []
    },
    {
      "cell_type": "code",
      "source": [
        "z=sy.symbols('z')\n",
        "x=sy.symbols('x')\n",
        "y=sy.symbols('y')"
      ],
      "metadata": {
        "id": "XcQFJPgCxJps"
      },
      "execution_count": 45,
      "outputs": []
    },
    {
      "cell_type": "code",
      "source": [
        "z=sy.sqrt(3)-sy.sqrt(3)*sy.I"
      ],
      "metadata": {
        "id": "1ePAzwXf_pdD"
      },
      "execution_count": 40,
      "outputs": []
    },
    {
      "cell_type": "code",
      "source": [
        "for n in range(10):\n",
        "  print((z**n).evalf())"
      ],
      "metadata": {
        "colab": {
          "base_uri": "https://localhost:8080/"
        },
        "id": "TBilcMlS_WCN",
        "outputId": "133afa43-9724-458b-d9c7-2584cd216f02"
      },
      "execution_count": 41,
      "outputs": [
        {
          "output_type": "stream",
          "name": "stdout",
          "text": [
            "1.00000000000000\n",
            "1.73205080756888 - 1.73205080756888*I\n",
            "-6.0*I\n",
            "-10.3923048454133 - 10.3923048454133*I\n",
            "-36.0 + 0.e-21*I\n",
            "-62.3538290724796 + 62.3538290724796*I\n",
            "0.e-20 + 216.0*I\n",
            "374.122974434878 + 374.122974434878*I\n",
            "1296.0 - 0.e-19*I\n",
            "2244.73784660927 - 2244.73784660927*I\n"
          ]
        }
      ]
    },
    {
      "cell_type": "code",
      "source": [
        "0.e-20"
      ],
      "metadata": {
        "colab": {
          "base_uri": "https://localhost:8080/"
        },
        "id": "VavnzsMfAahf",
        "outputId": "46be8cb1-0729-4bee-ac89-fc82b12ff287"
      },
      "execution_count": 43,
      "outputs": [
        {
          "output_type": "execute_result",
          "data": {
            "text/plain": [
              "0.0"
            ]
          },
          "metadata": {},
          "execution_count": 43
        }
      ]
    },
    {
      "cell_type": "code",
      "source": [
        "abs(x+(sy.I)*y-1+sy.I)"
      ],
      "metadata": {
        "colab": {
          "base_uri": "https://localhost:8080/",
          "height": 39
        },
        "id": "0btjI7qdDFqg",
        "outputId": "784d3b16-1f74-4df3-8114-65edb51b00c2"
      },
      "execution_count": 48,
      "outputs": [
        {
          "output_type": "execute_result",
          "data": {
            "text/plain": [
              "Abs(x + I*y - 1 + I)"
            ],
            "text/latex": "$\\displaystyle \\left|{x + i y - 1 + i}\\right|$"
          },
          "metadata": {},
          "execution_count": 48
        }
      ]
    },
    {
      "cell_type": "code",
      "source": [
        "sy.arg(((sy.sqrt(3)-sy.sqrt(3)*sy.I)**6))"
      ],
      "metadata": {
        "colab": {
          "base_uri": "https://localhost:8080/",
          "height": 47
        },
        "id": "_9aLpALP7WUb",
        "outputId": "d46c85e8-6589-4523-a0c7-d4159a6f35de"
      },
      "execution_count": 42,
      "outputs": [
        {
          "output_type": "execute_result",
          "data": {
            "text/plain": [
              "pi/2"
            ],
            "text/latex": "$\\displaystyle \\frac{\\pi}{2}$"
          },
          "metadata": {},
          "execution_count": 42
        }
      ]
    },
    {
      "cell_type": "code",
      "source": [
        "z=sy.symbols('z')"
      ],
      "metadata": {
        "id": "DNzErkbW2zft"
      },
      "execution_count": null,
      "outputs": []
    },
    {
      "cell_type": "code",
      "source": [
        "for i in (sy.solve(z**3-5+2*sy.I)):\n",
        "  print(round(i.evalf(),1))"
      ],
      "metadata": {
        "colab": {
          "base_uri": "https://localhost:8080/"
        },
        "id": "JupJLaGw2pMw",
        "outputId": "6d9c0773-6b00-43ae-c217-b4dd77f4f648"
      },
      "execution_count": 49,
      "outputs": [
        {
          "output_type": "stream",
          "name": "stdout",
          "text": [
            "1.7 - 0.2*I\n",
            "-1.1 - 1.4*I\n",
            "-0.7 + 1.6*I\n"
          ]
        }
      ]
    },
    {
      "cell_type": "code",
      "source": [
        "sy.solve(z**11-2*z)"
      ],
      "metadata": {
        "colab": {
          "base_uri": "https://localhost:8080/"
        },
        "id": "-ofSOqQqzVFK",
        "outputId": "0aa6f206-595e-4aca-c898-b373e624bc2b"
      },
      "execution_count": null,
      "outputs": [
        {
          "output_type": "execute_result",
          "data": {
            "text/plain": [
              "[0,\n",
              " -2**(1/10),\n",
              " 2**(1/10),\n",
              " -2**(1/10)/4 + 2**(1/10)*sqrt(5)/4 - 2**(1/10)*I*sqrt(sqrt(5)/8 + 5/8),\n",
              " -2**(1/10)/4 + 2**(1/10)*sqrt(5)/4 + 2**(1/10)*I*sqrt(sqrt(5)/8 + 5/8),\n",
              " 2**(1/10)/4 + 2**(1/10)*sqrt(5)/4 - 2**(1/10)*I*sqrt(5/8 - sqrt(5)/8),\n",
              " 2**(1/10)/4 + 2**(1/10)*sqrt(5)/4 + 2**(1/10)*I*sqrt(5/8 - sqrt(5)/8),\n",
              " -2**(1/10)*sqrt(5)/4 - 2**(1/10)/4 - 2**(1/10)*I*sqrt(5/8 - sqrt(5)/8),\n",
              " -2**(1/10)*sqrt(5)/4 - 2**(1/10)/4 + 2**(1/10)*I*sqrt(5/8 - sqrt(5)/8),\n",
              " -2**(1/10)*sqrt(5)/4 + 2**(1/10)/4 - 2**(1/10)*I*sqrt(sqrt(5)/8 + 5/8),\n",
              " -2**(1/10)*sqrt(5)/4 + 2**(1/10)/4 + 2**(1/10)*I*sqrt(sqrt(5)/8 + 5/8)]"
            ]
          },
          "metadata": {},
          "execution_count": 59
        }
      ]
    },
    {
      "cell_type": "code",
      "source": [
        "sy.solve(z**10-z)"
      ],
      "metadata": {
        "colab": {
          "base_uri": "https://localhost:8080/"
        },
        "id": "c9N_suNzHgh9",
        "outputId": "56eac145-b927-4351-c4fc-5c38bcd3d464"
      },
      "execution_count": 51,
      "outputs": [
        {
          "output_type": "execute_result",
          "data": {
            "text/plain": [
              "[0,\n",
              " 1,\n",
              " -1/2 - sqrt(3)*I/2,\n",
              " -1/2 + sqrt(3)*I/2,\n",
              " -cos(pi/9) - I*sin(pi/9),\n",
              " -cos(pi/9) + I*sin(pi/9),\n",
              " cos(2*pi/9) - I*sin(2*pi/9),\n",
              " cos(2*pi/9) + I*sin(2*pi/9),\n",
              " cos(4*pi/9) - I*sin(4*pi/9),\n",
              " cos(4*pi/9) + I*sin(4*pi/9)]"
            ]
          },
          "metadata": {},
          "execution_count": 51
        }
      ]
    },
    {
      "cell_type": "code",
      "source": [
        "def seq(n):\n",
        "  if n==1:\n",
        "    return 0\n",
        "  else:\n",
        "    return 2*seq(n-1)+3"
      ],
      "metadata": {
        "id": "3MytQf425Lhl"
      },
      "execution_count": 53,
      "outputs": []
    },
    {
      "cell_type": "code",
      "source": [
        "print(seq(10))"
      ],
      "metadata": {
        "colab": {
          "base_uri": "https://localhost:8080/"
        },
        "id": "8q2Z-88W7kG-",
        "outputId": "6ca9dd94-60d7-410b-ca98-704251b92e13"
      },
      "execution_count": 56,
      "outputs": [
        {
          "output_type": "stream",
          "name": "stdout",
          "text": [
            "1533\n"
          ]
        }
      ]
    },
    {
      "cell_type": "code",
      "source": [
        "a=sy.symbols('a')\n",
        "n=sy.symbols('n')"
      ],
      "metadata": {
        "id": "PoFNqTHR_IXZ"
      },
      "execution_count": 59,
      "outputs": []
    },
    {
      "cell_type": "code",
      "source": [
        "Sb = sy.Sum(1/((2*a)**(n+1)), (n,1,sy.oo))\n",
        "Sb"
      ],
      "metadata": {
        "colab": {
          "base_uri": "https://localhost:8080/",
          "height": 66
        },
        "id": "4H6VuV159HoF",
        "outputId": "01cf45ac-9999-420f-83e7-347949fdfe22"
      },
      "execution_count": null,
      "outputs": [
        {
          "output_type": "execute_result",
          "data": {
            "text/plain": [
              "Sum((2*a)**(-n - 1), (n, 1, oo))"
            ],
            "text/latex": "$\\displaystyle \\sum_{n=1}^{\\infty} \\left(2 a\\right)^{- n - 1}$"
          },
          "metadata": {},
          "execution_count": 90
        }
      ]
    },
    {
      "cell_type": "code",
      "source": [
        "Sb.doit()"
      ],
      "metadata": {
        "colab": {
          "base_uri": "https://localhost:8080/",
          "height": 90
        },
        "id": "OJggjWmS-NVF",
        "outputId": "13e4a8aa-fa5b-4ca7-a654-cad48f854ebb"
      },
      "execution_count": null,
      "outputs": [
        {
          "output_type": "execute_result",
          "data": {
            "text/plain": [
              "Piecewise((1/(2*a*(1 - 1/(2*a))), 1/Abs(a) < 2), (Sum(1/(2**n*a**n), (n, 1, oo)), True))/(2*a)"
            ],
            "text/latex": "$\\displaystyle \\frac{\\begin{cases} \\frac{1}{2 a \\left(1 - \\frac{1}{2 a}\\right)} & \\text{for}\\: \\frac{1}{\\left|{a}\\right|} < 2 \\\\\\sum_{n=1}^{\\infty} 2^{- n} a^{- n} & \\text{otherwise} \\end{cases}}{2 a}$"
          },
          "metadata": {},
          "execution_count": 91
        }
      ]
    },
    {
      "cell_type": "code",
      "source": [
        "sy.solve((1/abs(a))<2)"
      ],
      "metadata": {
        "colab": {
          "base_uri": "https://localhost:8080/",
          "height": 58
        },
        "id": "uuyvfAoxSwHY",
        "outputId": "d40c3e9c-05cc-4af6-b100-1c42063bd238"
      },
      "execution_count": 60,
      "outputs": [
        {
          "output_type": "execute_result",
          "data": {
            "text/plain": [
              "((-oo < a) & (a < -1/2)) | ((1/2 < a) & (a < oo))"
            ],
            "text/latex": "$\\displaystyle \\left(-\\infty < a \\wedge a < - \\frac{1}{2}\\right) \\vee \\left(\\frac{1}{2} < a \\wedge a < \\infty\\right)$"
          },
          "metadata": {},
          "execution_count": 60
        }
      ]
    },
    {
      "cell_type": "code",
      "source": [
        "Sc = sy.Sum(1/((n)**(a+2)), (n,1,sy.oo))\n",
        "Sc"
      ],
      "metadata": {
        "colab": {
          "base_uri": "https://localhost:8080/",
          "height": 66
        },
        "id": "qeVLQGuZBUqv",
        "outputId": "f0a9b6cd-89d5-4874-97d0-a5cda30d15e4"
      },
      "execution_count": null,
      "outputs": [
        {
          "output_type": "execute_result",
          "data": {
            "text/plain": [
              "Sum(n**(-a - 2), (n, 1, oo))"
            ],
            "text/latex": "$\\displaystyle \\sum_{n=1}^{\\infty} n^{- a - 2}$"
          },
          "metadata": {},
          "execution_count": 104
        }
      ]
    },
    {
      "cell_type": "code",
      "source": [
        "Sc.doit()"
      ],
      "metadata": {
        "colab": {
          "base_uri": "https://localhost:8080/",
          "height": 68
        },
        "id": "bi578_5uBqaT",
        "outputId": "d3be4da1-12b2-4689-e7eb-f2963f9f47e0"
      },
      "execution_count": null,
      "outputs": [
        {
          "output_type": "execute_result",
          "data": {
            "text/plain": [
              "Piecewise((zeta(a + 2), a > -1), (Sum(n**(-a - 2), (n, 1, oo)), True))"
            ],
            "text/latex": "$\\displaystyle \\begin{cases} \\zeta\\left(a + 2\\right) & \\text{for}\\: a > -1 \\\\\\sum_{n=1}^{\\infty} n^{- a - 2} & \\text{otherwise} \\end{cases}$"
          },
          "metadata": {},
          "execution_count": 105
        }
      ]
    },
    {
      "cell_type": "code",
      "source": [],
      "metadata": {
        "id": "d-ob3a5nSrD_"
      },
      "execution_count": null,
      "outputs": []
    },
    {
      "cell_type": "code",
      "source": [
        "x=np.linspace(0,10,1000)\n",
        "y=np.exp(x)**np.cos(x)"
      ],
      "metadata": {
        "id": "4_9RgjT9gIYD"
      },
      "execution_count": null,
      "outputs": []
    },
    {
      "cell_type": "code",
      "source": [
        "plt.plot(x,y)"
      ],
      "metadata": {
        "colab": {
          "base_uri": "https://localhost:8080/",
          "height": 448
        },
        "id": "rWGsq0lWfFFP",
        "outputId": "3c3e16b6-1bc2-4146-b9ef-ddcce1dbf6d0"
      },
      "execution_count": null,
      "outputs": [
        {
          "output_type": "execute_result",
          "data": {
            "text/plain": [
              "[<matplotlib.lines.Line2D at 0x7fb45986e320>]"
            ]
          },
          "metadata": {},
          "execution_count": 17
        },
        {
          "output_type": "display_data",
          "data": {
            "text/plain": [
              "<Figure size 640x480 with 1 Axes>"
            ],
            "image/png": "[encoded data removed]"
          },
          "metadata": {}
        }
      ]
    },
    {
      "cell_type": "code",
      "source": [
        "x=sy.symbols('x')"
      ],
      "metadata": {
        "id": "j8b0hGH50dkI"
      },
      "execution_count": null,
      "outputs": []
    },
    {
      "cell_type": "code",
      "source": [
        "(1/365)*sy.integrate(37*sy.sin(2*sy.pi/365*(x-101))+25,(x,0,365))"
      ],
      "metadata": {
        "colab": {
          "base_uri": "https://localhost:8080/",
          "height": 37
        },
        "id": "LaKDbrghzyS8",
        "outputId": "b1ab5f33-e5f2-4a7d-a800-cbaf03149361"
      },
      "execution_count": null,
      "outputs": [
        {
          "output_type": "execute_result",
          "data": {
            "text/plain": [
              "25.0000000000000"
            ],
            "text/latex": "$\\displaystyle 25.0$"
          },
          "metadata": {},
          "execution_count": 21
        }
      ]
    }
  ]
}