{
  "nbformat": 4,
  "nbformat_minor": 0,
  "metadata": {
    "colab": {
      "provenance": [],
      "authorship_tag": "ABX9TyOYa7svsM60oH5VscvZ9+ml",
      "include_colab_link": true
    },
    "kernelspec": {
      "name": "python3",
      "display_name": "Python 3"
    },
    "language_info": {
      "name": "python"
    }
  },
  "cells": [
    {
      "cell_type": "markdown",
      "metadata": {
        "id": "view-in-github",
        "colab_type": "text"
      },
      "source": [
        "<a href=\"https://colab.research.google.com/github/nhtyagmur/Fibonacci/blob/master/Complex_Numbers3.ipynb\" target=\"_parent\"><img src=\"https://colab.research.google.com/assets/colab-badge.svg\" alt=\"Open In Colab\"/></a>"
      ]
    },
    {
      "cell_type": "code",
      "execution_count": null,
      "metadata": {
        "id": "DOZl1JUsMDWr"
      },
      "outputs": [],
      "source": [
        "import math"
      ]
    },
    {
      "cell_type": "code",
      "source": [
        "import sympy as sy"
      ],
      "metadata": {
        "id": "Jcak091HsZ0V"
      },
      "execution_count": null,
      "outputs": []
    },
    {
      "cell_type": "code",
      "source": [
        "z=sy.symbols(\"z\")"
      ],
      "metadata": {
        "id": "uf1Yjicfsxui"
      },
      "execution_count": null,
      "outputs": []
    },
    {
      "cell_type": "code",
      "source": [
        "sol=sy.solve(z**3-2+sy.I)\n"
      ],
      "metadata": {
        "id": "lvB9pkZDseAi"
      },
      "execution_count": null,
      "outputs": []
    },
    {
      "cell_type": "code",
      "source": [
        "for w in sol:\n",
        "  print(round(w.evalf(),1))"
      ],
      "metadata": {
        "colab": {
          "base_uri": "https://localhost:8080/"
        },
        "id": "i7LaF4Izs3om",
        "outputId": "281aee7e-99c6-4ec7-f95a-ed3aecee1741"
      },
      "execution_count": null,
      "outputs": [
        {
          "output_type": "stream",
          "name": "stdout",
          "text": [
            "1.3 - 0.2*I\n",
            "-0.8 - 1.0*I\n",
            "-0.5 + 1.2*I\n"
          ]
        }
      ]
    },
    {
      "cell_type": "code",
      "source": [
        "s=5*sy.pi/3"
      ],
      "metadata": {
        "id": "3tZ0mBheuHGi"
      },
      "execution_count": null,
      "outputs": []
    },
    {
      "cell_type": "code",
      "source": [
        "round(s.evalf(),2)"
      ],
      "metadata": {
        "colab": {
          "base_uri": "https://localhost:8080/",
          "height": 37
        },
        "id": "Lv4Qut3UvdjL",
        "outputId": "0fe6e255-fe6b-423f-c9c0-982580eb4f46"
      },
      "execution_count": null,
      "outputs": [
        {
          "output_type": "execute_result",
          "data": {
            "text/plain": [
              "5.24"
            ],
            "text/latex": "$\\displaystyle 5.24$"
          },
          "metadata": {},
          "execution_count": 12
        }
      ]
    }
  ]
}