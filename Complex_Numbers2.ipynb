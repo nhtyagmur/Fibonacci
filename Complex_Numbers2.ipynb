{
  "nbformat": 4,
  "nbformat_minor": 0,
  "metadata": {
    "colab": {
      "provenance": [],
      "authorship_tag": "ABX9TyPHSYN8374Ktc8cQccpHjca",
      "include_colab_link": true
    },
    "kernelspec": {
      "name": "python3",
      "display_name": "Python 3"
    },
    "language_info": {
      "name": "python"
    }
  },
  "cells": [
    {
      "cell_type": "markdown",
      "metadata": {
        "id": "view-in-github",
        "colab_type": "text"
      },
      "source": [
        "<a href=\"https://colab.research.google.com/github/nhtyagmur/Fibonacci/blob/master/Complex_Numbers2.ipynb\" target=\"_parent\"><img src=\"https://colab.research.google.com/assets/colab-badge.svg\" alt=\"Open In Colab\"/></a>"
      ]
    },
    {
      "cell_type": "markdown",
      "source": [
        "1- Write z=-1+i in polar form and also exponential form.\n",
        "a) What is the argument of z?\n",
        "b)Determine the smllest natural number n s.t z^n is a real number"
      ],
      "metadata": {
        "id": "m3mT8KS5QRZG"
      }
    },
    {
      "cell_type": "code",
      "source": [
        "import math"
      ],
      "metadata": {
        "id": "G6VX4542Qss1"
      },
      "execution_count": null,
      "outputs": []
    },
    {
      "cell_type": "code",
      "source": [
        "import sympy as sy"
      ],
      "metadata": {
        "id": "itsdBhACTN_j"
      },
      "execution_count": null,
      "outputs": []
    },
    {
      "cell_type": "code",
      "source": [
        "z=sy.symbols(\"z\")"
      ],
      "metadata": {
        "id": "WyNgnbXJTShu"
      },
      "execution_count": null,
      "outputs": []
    },
    {
      "cell_type": "code",
      "source": [
        "z=-1+sy.I\n",
        "z"
      ],
      "metadata": {
        "colab": {
          "base_uri": "https://localhost:8080/",
          "height": 38
        },
        "id": "kbHbTPiLTZtL",
        "outputId": "56c6b891-3774-4a32-b305-f1559a768b22"
      },
      "execution_count": null,
      "outputs": [
        {
          "output_type": "execute_result",
          "data": {
            "text/plain": [
              "-1 + I"
            ],
            "text/latex": "$\\displaystyle -1 + i$"
          },
          "metadata": {},
          "execution_count": 5
        }
      ]
    },
    {
      "cell_type": "code",
      "source": [
        "sy.arg(z)"
      ],
      "metadata": {
        "colab": {
          "base_uri": "https://localhost:8080/",
          "height": 51
        },
        "id": "lT3NUqyUTkEd",
        "outputId": "7540995d-c883-428d-a202-135f008acf54"
      },
      "execution_count": null,
      "outputs": [
        {
          "output_type": "execute_result",
          "data": {
            "text/plain": [
              "3*pi/4"
            ],
            "text/latex": "$\\displaystyle \\frac{3 \\pi}{4}$"
          },
          "metadata": {},
          "execution_count": 6
        }
      ]
    },
    {
      "cell_type": "markdown",
      "source": [
        "2- Determine all z komplex numbers which satisfy with\n",
        "a)z^3=27*exp(-i.pi)\n",
        "b) z^2+4z+13=0"
      ],
      "metadata": {
        "id": "n-pnXSaOVsnz"
      }
    },
    {
      "cell_type": "code",
      "source": [
        "z=sy.symbols(\"z\")"
      ],
      "metadata": {
        "id": "OK8NaGV8WtGT"
      },
      "execution_count": null,
      "outputs": []
    },
    {
      "cell_type": "code",
      "source": [
        "sol1=sy.solve(z**3-27*sy.exp(sy.I*(-sy.pi)))\n",
        "sol1"
      ],
      "metadata": {
        "colab": {
          "base_uri": "https://localhost:8080/"
        },
        "id": "FiDVyKSXWfk4",
        "outputId": "e271c815-82a2-444d-a2a6-1cec03aefbe1"
      },
      "execution_count": null,
      "outputs": [
        {
          "output_type": "execute_result",
          "data": {
            "text/plain": [
              "[-3, 3/2 - 3*sqrt(3)*I/2, 3/2 + 3*sqrt(3)*I/2]"
            ]
          },
          "metadata": {},
          "execution_count": 8
        }
      ]
    },
    {
      "cell_type": "code",
      "source": [
        "for w in sol1:\n",
        "  print(w.evalf())"
      ],
      "metadata": {
        "colab": {
          "base_uri": "https://localhost:8080/"
        },
        "id": "LYeWvVHpZ_Zw",
        "outputId": "0459dcdd-d285-4152-867b-eb7d9930a136"
      },
      "execution_count": null,
      "outputs": [
        {
          "output_type": "stream",
          "name": "stdout",
          "text": [
            "-3.00000000000000\n",
            "1.5 - 2.59807621135332*I\n",
            "1.5 + 2.59807621135332*I\n"
          ]
        }
      ]
    },
    {
      "cell_type": "code",
      "source": [
        "sol2=sy.solve(z**2+4*z+13)\n",
        "sol2"
      ],
      "metadata": {
        "colab": {
          "base_uri": "https://localhost:8080/"
        },
        "id": "Wksm7VEeaQ5H",
        "outputId": "9ab98c07-994d-4b82-c881-a578b36eb2fc"
      },
      "execution_count": null,
      "outputs": [
        {
          "output_type": "execute_result",
          "data": {
            "text/plain": [
              "[-2 - 3*I, -2 + 3*I]"
            ]
          },
          "metadata": {},
          "execution_count": 10
        }
      ]
    },
    {
      "cell_type": "code",
      "source": [
        "for w in sol2:\n",
        "  print(w.evalf())"
      ],
      "metadata": {
        "id": "9LMUrkGRbXf2",
        "outputId": "d944519a-19ca-4b84-df66-b9536de4bf59",
        "colab": {
          "base_uri": "https://localhost:8080/"
        }
      },
      "execution_count": null,
      "outputs": [
        {
          "output_type": "stream",
          "name": "stdout",
          "text": [
            "-2.0 - 3.0*I\n",
            "-2.0 + 3.0*I\n"
          ]
        }
      ]
    },
    {
      "cell_type": "code",
      "source": [
        "k=sy.symbols(\"k\")\n",
        "k"
      ],
      "metadata": {
        "colab": {
          "base_uri": "https://localhost:8080/",
          "height": 38
        },
        "id": "J5NJH3f7XdIs",
        "outputId": "63897649-66e1-4a86-d64b-a6e5cacaf61e"
      },
      "execution_count": null,
      "outputs": [
        {
          "output_type": "execute_result",
          "data": {
            "text/plain": [
              "k"
            ],
            "text/latex": "$\\displaystyle k$"
          },
          "metadata": {},
          "execution_count": 4
        }
      ]
    },
    {
      "cell_type": "code",
      "source": [
        "Sa=sy.Sum(sy.I**k,(k,3,97))\n",
        "Sa"
      ],
      "metadata": {
        "colab": {
          "base_uri": "https://localhost:8080/",
          "height": 70
        },
        "id": "1qLSmmv_XNZx",
        "outputId": "2e72396c-b26d-4b13-e11c-09583d244b72"
      },
      "execution_count": null,
      "outputs": [
        {
          "output_type": "execute_result",
          "data": {
            "text/plain": [
              "Sum(I**k, (k, 3, 97))"
            ],
            "text/latex": "$\\displaystyle \\sum_{k=3}^{97} i^{k}$"
          },
          "metadata": {},
          "execution_count": 5
        }
      ]
    },
    {
      "cell_type": "code",
      "source": [
        "Sa.doit()"
      ],
      "metadata": {
        "colab": {
          "base_uri": "https://localhost:8080/",
          "height": 37
        },
        "id": "QVBCJ9iwX6YH",
        "outputId": "7d4047cd-8b9f-4af9-dfd0-2c67f48f54de"
      },
      "execution_count": null,
      "outputs": [
        {
          "output_type": "execute_result",
          "data": {
            "text/plain": [
              "1"
            ],
            "text/latex": "$\\displaystyle 1$"
          },
          "metadata": {},
          "execution_count": 7
        }
      ]
    },
    {
      "cell_type": "code",
      "source": [
        "Sb=sy.Sum((-sy.I)**k,(k,10,111))\n",
        "Sb"
      ],
      "metadata": {
        "colab": {
          "base_uri": "https://localhost:8080/",
          "height": 70
        },
        "id": "0fv8RdfuYPZn",
        "outputId": "a2e2636b-1a8d-4089-af08-97c86bfe034c"
      },
      "execution_count": null,
      "outputs": [
        {
          "output_type": "execute_result",
          "data": {
            "text/plain": [
              "Sum((-I)**k, (k, 10, 111))"
            ],
            "text/latex": "$\\displaystyle \\sum_{k=10}^{111} \\left(- i\\right)^{k}$"
          },
          "metadata": {},
          "execution_count": 8
        }
      ]
    },
    {
      "cell_type": "code",
      "source": [
        "Sb.doit()"
      ],
      "metadata": {
        "colab": {
          "base_uri": "https://localhost:8080/",
          "height": 38
        },
        "id": "vgweQntaZEI4",
        "outputId": "974f8b4b-8edd-4123-ddff-d11411cefe01"
      },
      "execution_count": null,
      "outputs": [
        {
          "output_type": "execute_result",
          "data": {
            "text/plain": [
              "-1 + I"
            ],
            "text/latex": "$\\displaystyle -1 + i$"
          },
          "metadata": {},
          "execution_count": 9
        }
      ]
    },
    {
      "cell_type": "code",
      "source": [
        "w=sy.symbols(\"w\")"
      ],
      "metadata": {
        "id": "jdydqjFzheXW"
      },
      "execution_count": null,
      "outputs": []
    },
    {
      "cell_type": "code",
      "source": [
        "sol5=sy.solve(w**3+8*sy.exp(sy.I*(sy.pi/3)))\n",
        "sol5"
      ],
      "metadata": {
        "colab": {
          "base_uri": "https://localhost:8080/"
        },
        "id": "xbAE4woMg-jG",
        "outputId": "514b9aa0-ee91-46f8-cc29-9826e52ce799"
      },
      "execution_count": null,
      "outputs": [
        {
          "output_type": "execute_result",
          "data": {
            "text/plain": [
              "[2*cos(2*pi/9) - 2*I*sin(2*pi/9),\n",
              " -sqrt(3)*sin(2*pi/9) - cos(2*pi/9) - sqrt(3)*I*cos(2*pi/9) + I*sin(2*pi/9),\n",
              " -cos(2*pi/9) + sqrt(3)*sin(2*pi/9) + I*sin(2*pi/9) + sqrt(3)*I*cos(2*pi/9)]"
            ]
          },
          "metadata": {},
          "execution_count": 20
        }
      ]
    },
    {
      "cell_type": "code",
      "source": [
        "for w in sol5:\n",
        "  print(w.evalf())"
      ],
      "metadata": {
        "colab": {
          "base_uri": "https://localhost:8080/"
        },
        "id": "xkVcKdzJiZpi",
        "outputId": "3f22d4d9-9e9a-490e-d58c-4aa51fe3b5c6"
      },
      "execution_count": null,
      "outputs": [
        {
          "output_type": "stream",
          "name": "stdout",
          "text": [
            "1.53208888623796 - 1.28557521937308*I\n",
            "-1.87938524157182 - 0.684040286651337*I\n",
            "0.347296355333861 + 1.96961550602442*I\n"
          ]
        }
      ]
    },
    {
      "cell_type": "code",
      "source": [
        "ca=2*sy.exp(sy.I*sy.pi/9)\n",
        "ca"
      ],
      "metadata": {
        "colab": {
          "base_uri": "https://localhost:8080/",
          "height": 40
        },
        "id": "Sn2O-dXfkLa6",
        "outputId": "024210a2-c89b-489d-badb-f7619795af2d"
      },
      "execution_count": null,
      "outputs": [
        {
          "output_type": "execute_result",
          "data": {
            "text/plain": [
              "2*exp(I*pi/9)"
            ],
            "text/latex": "$\\displaystyle 2 e^{\\frac{i \\pi}{9}}$"
          },
          "metadata": {},
          "execution_count": 24
        }
      ]
    },
    {
      "cell_type": "code",
      "source": [
        "ca.doit()"
      ],
      "metadata": {
        "colab": {
          "base_uri": "https://localhost:8080/",
          "height": 40
        },
        "id": "53PAwVK0k4EI",
        "outputId": "45d1b548-1ce1-418e-d7a6-d9c765de0a82"
      },
      "execution_count": null,
      "outputs": [
        {
          "output_type": "execute_result",
          "data": {
            "text/plain": [
              "2*exp(I*pi/9)"
            ],
            "text/latex": "$\\displaystyle 2 e^{\\frac{i \\pi}{9}}$"
          },
          "metadata": {},
          "execution_count": 25
        }
      ]
    },
    {
      "cell_type": "code",
      "source": [
        "ca.evalf()"
      ],
      "metadata": {
        "colab": {
          "base_uri": "https://localhost:8080/",
          "height": 38
        },
        "id": "paxwfZ56k8Od",
        "outputId": "ee9dd573-75c5-47ec-91df-e249b1129a94"
      },
      "execution_count": null,
      "outputs": [
        {
          "output_type": "execute_result",
          "data": {
            "text/plain": [
              "1.87938524157182 + 0.684040286651337*I"
            ],
            "text/latex": "$\\displaystyle 1.87938524157182 + 0.684040286651337 i$"
          },
          "metadata": {},
          "execution_count": 26
        }
      ]
    },
    {
      "cell_type": "code",
      "source": [
        "A=5*sy.pi/3\n",
        "B=A.evalf()\n",
        "round(B,2)"
      ],
      "metadata": {
        "colab": {
          "base_uri": "https://localhost:8080/",
          "height": 37
        },
        "id": "xkMBAZ9_c9Kg",
        "outputId": "2738385e-4ec6-4499-8a35-39c7ce729f82"
      },
      "execution_count": null,
      "outputs": [
        {
          "output_type": "execute_result",
          "data": {
            "text/plain": [
              "5.24"
            ],
            "text/latex": "$\\displaystyle 5.24$"
          },
          "metadata": {},
          "execution_count": 9
        }
      ]
    },
    {
      "cell_type": "code",
      "source": [
        "sol6=sy.solve(z**3-2+(sy.I))\n",
        "sol6"
      ],
      "metadata": {
        "colab": {
          "base_uri": "https://localhost:8080/"
        },
        "id": "l0thTws7ffjr",
        "outputId": "5911f483-c41d-44b3-81cb-26925512fa31"
      },
      "execution_count": null,
      "outputs": [
        {
          "output_type": "execute_result",
          "data": {
            "text/plain": [
              "[5**(1/6)*cos(atan(1/2)/3) - 5**(1/6)*I*sin(atan(1/2)/3),\n",
              " -5**(1/6)*cos(atan(1/2)/3)/2 - sqrt(3)*5**(1/6)*sin(atan(1/2)/3)/2 - sqrt(3)*5**(1/6)*I*cos(atan(1/2)/3)/2 + 5**(1/6)*I*sin(atan(1/2)/3)/2,\n",
              " -5**(1/6)*cos(atan(1/2)/3)/2 + sqrt(3)*5**(1/6)*sin(atan(1/2)/3)/2 + 5**(1/6)*I*sin(atan(1/2)/3)/2 + sqrt(3)*5**(1/6)*I*cos(atan(1/2)/3)/2]"
            ]
          },
          "metadata": {},
          "execution_count": 13
        }
      ]
    },
    {
      "cell_type": "code",
      "source": [
        "for w in sol6:\n",
        "  y=w.evalf()\n",
        "  print(round(y,1))"
      ],
      "metadata": {
        "colab": {
          "base_uri": "https://localhost:8080/"
        },
        "id": "alxid-pkf71A",
        "outputId": "4c1d3def-95d6-47fc-9c08-006b988224a7"
      },
      "execution_count": null,
      "outputs": [
        {
          "output_type": "stream",
          "name": "stdout",
          "text": [
            "1.3 - 0.2*I\n",
            "-0.8 - 1.0*I\n",
            "-0.5 + 1.2*I\n"
          ]
        }
      ]
    }
  ]
}