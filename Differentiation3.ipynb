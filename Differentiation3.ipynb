{
  "nbformat": 4,
  "nbformat_minor": 0,
  "metadata": {
    "colab": {
      "provenance": [],
      "authorship_tag": "ABX9TyPDmQUiLkuFxM2hqQhY7j1d",
      "include_colab_link": true
    },
    "kernelspec": {
      "name": "python3",
      "display_name": "Python 3"
    },
    "language_info": {
      "name": "python"
    }
  },
  "cells": [
    {
      "cell_type": "markdown",
      "metadata": {
        "id": "view-in-github",
        "colab_type": "text"
      },
      "source": [
        "<a href=\"https://colab.research.google.com/github/nhtyagmur/Fibonacci/blob/master/Differentiation3.ipynb\" target=\"_parent\"><img src=\"https://colab.research.google.com/assets/colab-badge.svg\" alt=\"Open In Colab\"/></a>"
      ]
    },
    {
      "cell_type": "code",
      "execution_count": 2,
      "metadata": {
        "id": "btBmoUNd-UrP"
      },
      "outputs": [],
      "source": [
        "import math"
      ]
    },
    {
      "cell_type": "code",
      "source": [
        "import sympy as sy"
      ],
      "metadata": {
        "id": "Ne1pBCh9_PYB"
      },
      "execution_count": 3,
      "outputs": []
    },
    {
      "cell_type": "code",
      "source": [
        "import numpy as np"
      ],
      "metadata": {
        "id": "zQWV--jB_R0t"
      },
      "execution_count": 4,
      "outputs": []
    },
    {
      "cell_type": "code",
      "source": [
        "import matplotlib.pyplot as plt"
      ],
      "metadata": {
        "id": "W0gDFCCw_UWz"
      },
      "execution_count": 5,
      "outputs": []
    },
    {
      "cell_type": "code",
      "source": [
        "x=sy.symbols(\"x\")"
      ],
      "metadata": {
        "id": "Y0et8nKW_aLJ"
      },
      "execution_count": 6,
      "outputs": []
    },
    {
      "cell_type": "code",
      "source": [
        "f=sy.exp(x**2+x)\n",
        "f"
      ],
      "metadata": {
        "colab": {
          "base_uri": "https://localhost:8080/",
          "height": 40
        },
        "id": "6X-U4ssrAfPQ",
        "outputId": "c6db89f6-90b5-482d-8482-e88a70c6d79b"
      },
      "execution_count": 7,
      "outputs": [
        {
          "output_type": "execute_result",
          "data": {
            "text/plain": [
              "exp(x**2 + x)"
            ],
            "text/latex": "$\\displaystyle e^{x^{2} + x}$"
          },
          "metadata": {},
          "execution_count": 7
        }
      ]
    },
    {
      "cell_type": "code",
      "source": [
        "sy.diff(f,x)"
      ],
      "metadata": {
        "colab": {
          "base_uri": "https://localhost:8080/",
          "height": 41
        },
        "id": "uhNzdJTUAmcu",
        "outputId": "4bed31ce-d67d-4057-e2a5-c8de37256bbd"
      },
      "execution_count": null,
      "outputs": [
        {
          "output_type": "execute_result",
          "data": {
            "text/plain": [
              "(2*x + 1)*exp(x**2 + x)"
            ],
            "text/latex": "$\\displaystyle \\left(2 x + 1\\right) e^{x^{2} + x}$"
          },
          "metadata": {},
          "execution_count": 31
        }
      ]
    },
    {
      "cell_type": "code",
      "source": [
        "sy.solve(sy.diff(f,x))"
      ],
      "metadata": {
        "colab": {
          "base_uri": "https://localhost:8080/"
        },
        "id": "gu4cY7_8A5eJ",
        "outputId": "5c270b79-675f-4829-c5d7-731941b9b4d2"
      },
      "execution_count": null,
      "outputs": [
        {
          "output_type": "execute_result",
          "data": {
            "text/plain": [
              "[-1/2]"
            ]
          },
          "metadata": {},
          "execution_count": 25
        }
      ]
    },
    {
      "cell_type": "code",
      "source": [
        "x=np.linspace(-1,1,100)\n",
        "y=np.exp(x**2+x)"
      ],
      "metadata": {
        "id": "3I6gi2ji_i47"
      },
      "execution_count": 8,
      "outputs": []
    },
    {
      "cell_type": "code",
      "source": [
        "plt.plot(x,y)"
      ],
      "metadata": {
        "colab": {
          "base_uri": "https://localhost:8080/",
          "height": 448
        },
        "id": "cG5_uexw__fZ",
        "outputId": "ca268b6e-6795-4a0b-96ce-3918d7f433a0"
      },
      "execution_count": 9,
      "outputs": [
        {
          "output_type": "execute_result",
          "data": {
            "text/plain": [
              "[<matplotlib.lines.Line2D at 0x7f508665b7f0>]"
            ]
          },
          "metadata": {},
          "execution_count": 9
        },
        {
          "output_type": "display_data",
          "data": {
            "text/plain": [
              "<Figure size 640x480 with 1 Axes>"
            ],
            "image/png": "[encoded data removed]"
          },
          "metadata": {}
        }
      ]
    },
    {
      "cell_type": "code",
      "source": [
        "g=sy.exp(sy.sin(x))\n",
        "g"
      ],
      "metadata": {
        "colab": {
          "base_uri": "https://localhost:8080/",
          "height": 39
        },
        "id": "GFnqI_36F9Lm",
        "outputId": "2c8e322d-b21d-4b24-9dd4-08bdacbb10c0"
      },
      "execution_count": null,
      "outputs": [
        {
          "output_type": "execute_result",
          "data": {
            "text/plain": [
              "exp(sin(x))"
            ],
            "text/latex": "$\\displaystyle e^{\\sin{\\left(x \\right)}}$"
          },
          "metadata": {},
          "execution_count": 64
        }
      ]
    },
    {
      "cell_type": "code",
      "source": [
        "sy.diff(g,x)"
      ],
      "metadata": {
        "colab": {
          "base_uri": "https://localhost:8080/",
          "height": 39
        },
        "id": "BfOOZOLcGGfl",
        "outputId": "eb5deb6d-c8dc-463c-d2f4-24cc9ea8ab68"
      },
      "execution_count": null,
      "outputs": [
        {
          "output_type": "execute_result",
          "data": {
            "text/plain": [
              "exp(sin(x))*cos(x)"
            ],
            "text/latex": "$\\displaystyle e^{\\sin{\\left(x \\right)}} \\cos{\\left(x \\right)}$"
          },
          "metadata": {},
          "execution_count": 65
        }
      ]
    },
    {
      "cell_type": "code",
      "source": [
        "x=np.linspace(0,10,100)\n",
        "y=np.exp(np.sin(x))"
      ],
      "metadata": {
        "id": "sE_7Sh8JGMyn"
      },
      "execution_count": null,
      "outputs": []
    },
    {
      "cell_type": "code",
      "source": [
        "plt.plot(x,y)"
      ],
      "metadata": {
        "colab": {
          "base_uri": "https://localhost:8080/",
          "height": 447
        },
        "id": "_Djo2nG7GWv-",
        "outputId": "bba35a05-eb98-4a69-8c0b-29e53fb7c2cf"
      },
      "execution_count": null,
      "outputs": [
        {
          "output_type": "execute_result",
          "data": {
            "text/plain": [
              "[<matplotlib.lines.Line2D at 0x7f15834853f0>]"
            ]
          },
          "metadata": {},
          "execution_count": 73
        },
        {
          "output_type": "display_data",
          "data": {
            "text/plain": [
              "<Figure size 640x480 with 1 Axes>"
            ],
            "image/png": "[encoded data removed]"
          },
          "metadata": {}
        }
      ]
    },
    {
      "cell_type": "code",
      "source": [
        "h=(x+2)*sy.cos(x**2/2)\n",
        "h"
      ],
      "metadata": {
        "colab": {
          "base_uri": "https://localhost:8080/",
          "height": 58
        },
        "id": "YwU23NcsLYZk",
        "outputId": "651d3186-7933-4888-b16b-629d65b19d1c"
      },
      "execution_count": null,
      "outputs": [
        {
          "output_type": "execute_result",
          "data": {
            "text/plain": [
              "(x + 2)*cos(x**2/2)"
            ],
            "text/latex": "$\\displaystyle \\left(x + 2\\right) \\cos{\\left(\\frac{x^{2}}{2} \\right)}$"
          },
          "metadata": {},
          "execution_count": 76
        }
      ]
    },
    {
      "cell_type": "code",
      "source": [
        "sy.diff(h,x)"
      ],
      "metadata": {
        "colab": {
          "base_uri": "https://localhost:8080/",
          "height": 58
        },
        "id": "8cUavT8qLtzM",
        "outputId": "e147bec5-02e8-45c5-9697-64fd297c8703"
      },
      "execution_count": null,
      "outputs": [
        {
          "output_type": "execute_result",
          "data": {
            "text/plain": [
              "-x*(x + 2)*sin(x**2/2) + cos(x**2/2)"
            ],
            "text/latex": "$\\displaystyle - x \\left(x + 2\\right) \\sin{\\left(\\frac{x^{2}}{2} \\right)} + \\cos{\\left(\\frac{x^{2}}{2} \\right)}$"
          },
          "metadata": {},
          "execution_count": 80
        }
      ]
    },
    {
      "cell_type": "code",
      "source": [
        "h.subs(x,0)"
      ],
      "metadata": {
        "colab": {
          "base_uri": "https://localhost:8080/",
          "height": 37
        },
        "id": "ZprtcigxNnoW",
        "outputId": "77d24706-2eb6-48f0-878f-e45116229cc1"
      },
      "execution_count": null,
      "outputs": [
        {
          "output_type": "execute_result",
          "data": {
            "text/plain": [
              "2"
            ],
            "text/latex": "$\\displaystyle 2$"
          },
          "metadata": {},
          "execution_count": 87
        }
      ]
    },
    {
      "cell_type": "code",
      "source": [
        "sy.diff(h,x).subs(x,0)"
      ],
      "metadata": {
        "colab": {
          "base_uri": "https://localhost:8080/",
          "height": 37
        },
        "id": "Ag7aZ492MEiu",
        "outputId": "01897568-30ef-43ce-8e81-72231747ec14"
      },
      "execution_count": null,
      "outputs": [
        {
          "output_type": "execute_result",
          "data": {
            "text/plain": [
              "1"
            ],
            "text/latex": "$\\displaystyle 1$"
          },
          "metadata": {},
          "execution_count": 81
        }
      ]
    },
    {
      "cell_type": "code",
      "source": [
        "2+1*(0.08-0)"
      ],
      "metadata": {
        "colab": {
          "base_uri": "https://localhost:8080/"
        },
        "id": "U0RWun80N7zn",
        "outputId": "4ae768bd-2181-4916-c148-edb9d9e4c71c"
      },
      "execution_count": 10,
      "outputs": [
        {
          "output_type": "execute_result",
          "data": {
            "text/plain": [
              "2.08"
            ]
          },
          "metadata": {},
          "execution_count": 10
        }
      ]
    },
    {
      "cell_type": "code",
      "source": [
        "h.subs(x,0.08)"
      ],
      "metadata": {
        "colab": {
          "base_uri": "https://localhost:8080/",
          "height": 37
        },
        "id": "8ZTJ9SECOCYM",
        "outputId": "8c364c26-bc7c-4ba7-be9e-ecedc307cc4c"
      },
      "execution_count": null,
      "outputs": [
        {
          "output_type": "execute_result",
          "data": {
            "text/plain": [
              "2.07998935040909"
            ],
            "text/latex": "$\\displaystyle 2.07998935040909$"
          },
          "metadata": {},
          "execution_count": 89
        }
      ]
    },
    {
      "cell_type": "code",
      "source": [],
      "metadata": {
        "id": "LOimcRvHXfDE"
      },
      "execution_count": null,
      "outputs": []
    }
  ]
}