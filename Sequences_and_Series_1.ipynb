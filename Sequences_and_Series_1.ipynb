{
  "nbformat": 4,
  "nbformat_minor": 0,
  "metadata": {
    "colab": {
      "provenance": [],
      "authorship_tag": "ABX9TyPOGa+0iJ9C8wzLVXJR+yvM",
      "include_colab_link": true
    },
    "kernelspec": {
      "name": "python3",
      "display_name": "Python 3"
    },
    "language_info": {
      "name": "python"
    }
  },
  "cells": [
    {
      "cell_type": "markdown",
      "metadata": {
        "id": "view-in-github",
        "colab_type": "text"
      },
      "source": [
        "<a href=\"https://colab.research.google.com/github/nhtyagmur/Fibonacci/blob/master/Sequences_and_Series_1.ipynb\" target=\"_parent\"><img src=\"https://colab.research.google.com/assets/colab-badge.svg\" alt=\"Open In Colab\"/></a>"
      ]
    },
    {
      "cell_type": "code",
      "execution_count": 1,
      "metadata": {
        "id": "6K5i02bW4eZt"
      },
      "outputs": [],
      "source": [
        "import math"
      ]
    },
    {
      "cell_type": "code",
      "source": [
        "import sympy as sy"
      ],
      "metadata": {
        "id": "3n1EZqj0nYTO"
      },
      "execution_count": 2,
      "outputs": []
    },
    {
      "cell_type": "code",
      "source": [
        "n=sy.symbols(\"n\")"
      ],
      "metadata": {
        "id": "OOmFrYkjnb0S"
      },
      "execution_count": 3,
      "outputs": []
    },
    {
      "cell_type": "code",
      "source": [
        "def seq(n):\n",
        "  if n==1:\n",
        "    return(0)\n",
        "  else:\n",
        "    return(2*(seq(n-1)+2))\n"
      ],
      "metadata": {
        "id": "hWYLMkqOnhrc"
      },
      "execution_count": 5,
      "outputs": []
    },
    {
      "cell_type": "code",
      "source": [
        "seq(10)"
      ],
      "metadata": {
        "colab": {
          "base_uri": "https://localhost:8080/"
        },
        "id": "K1VU9w-uoS7Y",
        "outputId": "a29b5e1d-d5db-4215-c1f9-0156e4267a89"
      },
      "execution_count": 6,
      "outputs": [
        {
          "output_type": "execute_result",
          "data": {
            "text/plain": [
              "2044"
            ]
          },
          "metadata": {},
          "execution_count": 6
        }
      ]
    },
    {
      "cell_type": "code",
      "source": [
        "seq(5)"
      ],
      "metadata": {
        "colab": {
          "base_uri": "https://localhost:8080/"
        },
        "id": "FPoO7nnnoZ0D",
        "outputId": "db62c016-efe6-4f55-e1d3-aef6cbfa775d"
      },
      "execution_count": 7,
      "outputs": [
        {
          "output_type": "execute_result",
          "data": {
            "text/plain": [
              "60"
            ]
          },
          "metadata": {},
          "execution_count": 7
        }
      ]
    },
    {
      "cell_type": "code",
      "source": [
        "n=sy.symbols(\"n\")"
      ],
      "metadata": {
        "id": "qxa497IzsK7A"
      },
      "execution_count": 8,
      "outputs": []
    },
    {
      "cell_type": "code",
      "source": [
        "a=sy.symbols(\"a\")"
      ],
      "metadata": {
        "id": "k3UL0mYbsPfN"
      },
      "execution_count": 9,
      "outputs": []
    },
    {
      "cell_type": "code",
      "source": [
        "seq1=((2*a)**(1/n)+n*sy.ln(3*n)+a**2*n**3)/((n**2+1)*(n-1))\n",
        "seq1"
      ],
      "metadata": {
        "colab": {
          "base_uri": "https://localhost:8080/",
          "height": 63
        },
        "id": "xkwgviR5sSEb",
        "outputId": "1ec0ff53-9058-481d-974c-706fff935af7"
      },
      "execution_count": 11,
      "outputs": [
        {
          "output_type": "execute_result",
          "data": {
            "text/plain": [
              "(a**2*n**3 + n*log(3*n) + (2*a)**(1/n))/((n - 1)*(n**2 + 1))"
            ],
            "text/latex": "$\\displaystyle \\frac{a^{2} n^{3} + n \\log{\\left(3 n \\right)} + \\left(2 a\\right)^{\\frac{1}{n}}}{\\left(n - 1\\right) \\left(n^{2} + 1\\right)}$"
          },
          "metadata": {},
          "execution_count": 11
        }
      ]
    },
    {
      "cell_type": "code",
      "source": [
        "sy.limit(seq1,n, sy.oo)"
      ],
      "metadata": {
        "colab": {
          "base_uri": "https://localhost:8080/",
          "height": 39
        },
        "id": "rvyhSX7ts7Cp",
        "outputId": "c339c859-b346-4ed3-b290-a2647b4509b3"
      },
      "execution_count": 12,
      "outputs": [
        {
          "output_type": "execute_result",
          "data": {
            "text/plain": [
              "a**2"
            ],
            "text/latex": "$\\displaystyle a^{2}$"
          },
          "metadata": {},
          "execution_count": 12
        }
      ]
    },
    {
      "cell_type": "code",
      "source": [
        "sy.solve(a**2<=1)"
      ],
      "metadata": {
        "colab": {
          "base_uri": "https://localhost:8080/",
          "height": 39
        },
        "id": "Wt54SCYRtEmD",
        "outputId": "fdb7e533-f2c4-450e-b354-2994c378ff70"
      },
      "execution_count": 13,
      "outputs": [
        {
          "output_type": "execute_result",
          "data": {
            "text/plain": [
              "(-1 <= a) & (a <= 1)"
            ],
            "text/latex": "$\\displaystyle -1 \\leq a \\wedge a \\leq 1$"
          },
          "metadata": {},
          "execution_count": 13
        }
      ]
    }
  ]
}