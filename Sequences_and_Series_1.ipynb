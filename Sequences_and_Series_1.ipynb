{
  "nbformat": 4,
  "nbformat_minor": 0,
  "metadata": {
    "colab": {
      "provenance": [],
      "authorship_tag": "ABX9TyM7dfmMjDkIB6LTFiwNTMpb",
      "include_colab_link": true
    },
    "kernelspec": {
      "name": "python3",
      "display_name": "Python 3"
    },
    "language_info": {
      "name": "python"
    }
  },
  "cells": [
    {
      "cell_type": "markdown",
      "metadata": {
        "id": "view-in-github",
        "colab_type": "text"
      },
      "source": [
        "<a href=\"https://colab.research.google.com/github/nhtyagmur/Fibonacci/blob/master/Sequences_and_Series_1.ipynb\" target=\"_parent\"><img src=\"https://colab.research.google.com/assets/colab-badge.svg\" alt=\"Open In Colab\"/></a>"
      ]
    },
    {
      "cell_type": "code",
      "execution_count": 1,
      "metadata": {
        "id": "0I56vPsuflA9"
      },
      "outputs": [],
      "source": [
        "import math"
      ]
    },
    {
      "cell_type": "code",
      "source": [
        "import sympy as sy"
      ],
      "metadata": {
        "id": "nTqzuW5IfyAy"
      },
      "execution_count": 2,
      "outputs": []
    },
    {
      "cell_type": "code",
      "source": [
        "i=sy.symbols(\"i\")\n",
        "i"
      ],
      "metadata": {
        "colab": {
          "base_uri": "https://localhost:8080/",
          "height": 39
        },
        "id": "DzLxc6-4f1nj",
        "outputId": "1a3b14a9-1d78-4d36-cba0-4c287630e747"
      },
      "execution_count": 3,
      "outputs": [
        {
          "output_type": "execute_result",
          "data": {
            "text/plain": [
              "i"
            ],
            "text/latex": "$\\displaystyle i$"
          },
          "metadata": {},
          "execution_count": 3
        }
      ]
    },
    {
      "cell_type": "code",
      "source": [
        "Sa=sy.Sum(((1-i**2)/(2*(i+4)**2)),(i,0,sy.oo))\n",
        "Sa"
      ],
      "metadata": {
        "colab": {
          "base_uri": "https://localhost:8080/",
          "height": 67
        },
        "id": "Dthi1MO8ghJZ",
        "outputId": "6fc17b87-80e4-4387-df00-cc61a1f16aa6"
      },
      "execution_count": 6,
      "outputs": [
        {
          "output_type": "execute_result",
          "data": {
            "text/plain": [
              "Sum((1 - i**2)/(2*(i + 4)**2), (i, 0, oo))"
            ],
            "text/latex": "$\\displaystyle \\sum_{i=0}^{\\infty} \\frac{1 - i^{2}}{2 \\left(i + 4\\right)^{2}}$"
          },
          "metadata": {},
          "execution_count": 6
        }
      ]
    },
    {
      "cell_type": "code",
      "source": [
        "Sa.is_convergent()"
      ],
      "metadata": {
        "colab": {
          "base_uri": "https://localhost:8080/",
          "height": 37
        },
        "id": "4125u3bThiqT",
        "outputId": "3a5e4bdc-c4d9-4b8c-ebdf-ca1f25d58191"
      },
      "execution_count": 10,
      "outputs": [
        {
          "output_type": "execute_result",
          "data": {
            "text/plain": [
              "False"
            ],
            "text/latex": "$\\displaystyle \\text{False}$"
          },
          "metadata": {},
          "execution_count": 10
        }
      ]
    },
    {
      "cell_type": "code",
      "source": [
        "Sa1=sy.Sum(((2**(2*i+1))/(5**i)),(i,0,sy.oo))\n",
        "Sa1"
      ],
      "metadata": {
        "colab": {
          "base_uri": "https://localhost:8080/",
          "height": 67
        },
        "id": "HCuUoiRAiKm0",
        "outputId": "0a2452f8-6359-4d03-f386-dab653284dcb"
      },
      "execution_count": 23,
      "outputs": [
        {
          "output_type": "execute_result",
          "data": {
            "text/plain": [
              "Sum(2**(2*i + 1)/5**i, (i, 0, oo))"
            ],
            "text/latex": "$\\displaystyle \\sum_{i=0}^{\\infty} 2^{2 i + 1} \\cdot 5^{- i}$"
          },
          "metadata": {},
          "execution_count": 23
        }
      ]
    },
    {
      "cell_type": "code",
      "source": [
        "Sa1.doit()"
      ],
      "metadata": {
        "colab": {
          "base_uri": "https://localhost:8080/",
          "height": 37
        },
        "id": "LMFG7YkEkAYM",
        "outputId": "03befeca-afc8-4c90-b0ba-697392b94365"
      },
      "execution_count": 24,
      "outputs": [
        {
          "output_type": "execute_result",
          "data": {
            "text/plain": [
              "10"
            ],
            "text/latex": "$\\displaystyle 10$"
          },
          "metadata": {},
          "execution_count": 24
        }
      ]
    },
    {
      "cell_type": "code",
      "source": [
        "Sa1.is_convergent()"
      ],
      "metadata": {
        "colab": {
          "base_uri": "https://localhost:8080/",
          "height": 37
        },
        "id": "hKeV4ZT-llvf",
        "outputId": "ad7481a5-c236-4870-c1ed-2cac052e94b8"
      },
      "execution_count": 25,
      "outputs": [
        {
          "output_type": "execute_result",
          "data": {
            "text/plain": [
              "True"
            ],
            "text/latex": "$\\displaystyle \\text{True}$"
          },
          "metadata": {},
          "execution_count": 25
        }
      ]
    },
    {
      "cell_type": "code",
      "source": [
        "Sa2=sy.Sum(((4**i)/sy.factorial(i)),(i,1,sy.oo))\n",
        "Sa2"
      ],
      "metadata": {
        "colab": {
          "base_uri": "https://localhost:8080/",
          "height": 67
        },
        "id": "x3Wnvz-jmDFY",
        "outputId": "ef424703-d255-455d-cd8b-8725878df99e"
      },
      "execution_count": 26,
      "outputs": [
        {
          "output_type": "execute_result",
          "data": {
            "text/plain": [
              "Sum(4**i/factorial(i), (i, 1, oo))"
            ],
            "text/latex": "$\\displaystyle \\sum_{i=1}^{\\infty} \\frac{4^{i}}{i!}$"
          },
          "metadata": {},
          "execution_count": 26
        }
      ]
    },
    {
      "cell_type": "code",
      "source": [
        "Sa2.is_convergent()"
      ],
      "metadata": {
        "colab": {
          "base_uri": "https://localhost:8080/",
          "height": 37
        },
        "id": "H330u7odmYuY",
        "outputId": "862361fd-c30f-4f71-c68e-cffee48327f8"
      },
      "execution_count": 28,
      "outputs": [
        {
          "output_type": "execute_result",
          "data": {
            "text/plain": [
              "True"
            ],
            "text/latex": "$\\displaystyle \\text{True}$"
          },
          "metadata": {},
          "execution_count": 28
        }
      ]
    },
    {
      "cell_type": "code",
      "source": [
        "Sa2.doit()"
      ],
      "metadata": {
        "colab": {
          "base_uri": "https://localhost:8080/",
          "height": 39
        },
        "id": "YqJyIVQUmiay",
        "outputId": "1b27f128-bbbd-4b60-d371-99f5d0fec51a"
      },
      "execution_count": 29,
      "outputs": [
        {
          "output_type": "execute_result",
          "data": {
            "text/plain": [
              "-1 + exp(4)"
            ],
            "text/latex": "$\\displaystyle -1 + e^{4}$"
          },
          "metadata": {},
          "execution_count": 29
        }
      ]
    },
    {
      "cell_type": "code",
      "source": [
        "n=sy.symbols(\"n\")\n",
        "a=sy.symbols(\"a\")\n",
        "n"
      ],
      "metadata": {
        "colab": {
          "base_uri": "https://localhost:8080/",
          "height": 39
        },
        "id": "HmLbMw5LmzP-",
        "outputId": "5fbb5fae-7bac-49f0-e8d6-7281fa259b12"
      },
      "execution_count": 32,
      "outputs": [
        {
          "output_type": "execute_result",
          "data": {
            "text/plain": [
              "n"
            ],
            "text/latex": "$\\displaystyle n$"
          },
          "metadata": {},
          "execution_count": 32
        }
      ]
    },
    {
      "cell_type": "code",
      "source": [
        "a"
      ],
      "metadata": {
        "colab": {
          "base_uri": "https://localhost:8080/",
          "height": 39
        },
        "id": "NK1LpVBXnZFU",
        "outputId": "95c5c80b-6785-4b3d-9658-cbfff08cad74"
      },
      "execution_count": 33,
      "outputs": [
        {
          "output_type": "execute_result",
          "data": {
            "text/plain": [
              "a"
            ],
            "text/latex": "$\\displaystyle a$"
          },
          "metadata": {},
          "execution_count": 33
        }
      ]
    },
    {
      "cell_type": "code",
      "source": [
        "Sa3=sy.Sum((2*n+a)/(7*n),(n,1,sy.oo))\n",
        "Sa3"
      ],
      "metadata": {
        "colab": {
          "base_uri": "https://localhost:8080/",
          "height": 66
        },
        "id": "nx6JcW7fnacm",
        "outputId": "c01908d2-4347-4244-bc46-29c0dd20389a"
      },
      "execution_count": 35,
      "outputs": [
        {
          "output_type": "execute_result",
          "data": {
            "text/plain": [
              "Sum((a + 2*n)/(7*n), (n, 1, oo))"
            ],
            "text/latex": "$\\displaystyle \\sum_{n=1}^{\\infty} \\frac{a + 2 n}{7 n}$"
          },
          "metadata": {},
          "execution_count": 35
        }
      ]
    },
    {
      "cell_type": "code",
      "source": [
        "Sa3.doit()"
      ],
      "metadata": {
        "colab": {
          "base_uri": "https://localhost:8080/",
          "height": 39
        },
        "id": "otD2XoJMnu0_",
        "outputId": "c3860773-1b71-483a-9f1f-0718713bc58e"
      },
      "execution_count": 36,
      "outputs": [
        {
          "output_type": "execute_result",
          "data": {
            "text/plain": [
              "oo*a + oo"
            ],
            "text/latex": "$\\displaystyle \\infty a + \\infty$"
          },
          "metadata": {},
          "execution_count": 36
        }
      ]
    },
    {
      "cell_type": "code",
      "source": [
        "Sa4=sy.Sum(1/(n**2),(n,1,sy.oo))\n",
        "Sa4"
      ],
      "metadata": {
        "colab": {
          "base_uri": "https://localhost:8080/",
          "height": 66
        },
        "id": "3mL1iDCypJ34",
        "outputId": "115705f7-7f37-43b5-b1e0-3474a7e836db"
      },
      "execution_count": 37,
      "outputs": [
        {
          "output_type": "execute_result",
          "data": {
            "text/plain": [
              "Sum(n**(-2), (n, 1, oo))"
            ],
            "text/latex": "$\\displaystyle \\sum_{n=1}^{\\infty} \\frac{1}{n^{2}}$"
          },
          "metadata": {},
          "execution_count": 37
        }
      ]
    },
    {
      "cell_type": "code",
      "source": [
        "Sa4.doit()"
      ],
      "metadata": {
        "colab": {
          "base_uri": "https://localhost:8080/",
          "height": 54
        },
        "id": "LrzISZzCpRMM",
        "outputId": "39133d52-c5d1-455c-c3bb-ea49517139e4"
      },
      "execution_count": 38,
      "outputs": [
        {
          "output_type": "execute_result",
          "data": {
            "text/plain": [
              "pi**2/6"
            ],
            "text/latex": "$\\displaystyle \\frac{\\pi^{2}}{6}$"
          },
          "metadata": {},
          "execution_count": 38
        }
      ]
    },
    {
      "cell_type": "code",
      "source": [
        "Sa5=sy.Sum(3*a**n/(sy.factorial(n)),(n,0,sy.oo))\n",
        "Sa5"
      ],
      "metadata": {
        "colab": {
          "base_uri": "https://localhost:8080/",
          "height": 66
        },
        "id": "BTHovu_ypojs",
        "outputId": "ddd35318-7e82-47a9-ee64-08683fb19e4a"
      },
      "execution_count": 40,
      "outputs": [
        {
          "output_type": "execute_result",
          "data": {
            "text/plain": [
              "Sum(3*a**n/factorial(n), (n, 0, oo))"
            ],
            "text/latex": "$\\displaystyle \\sum_{n=0}^{\\infty} \\frac{3 a^{n}}{n!}$"
          },
          "metadata": {},
          "execution_count": 40
        }
      ]
    },
    {
      "cell_type": "code",
      "source": [
        "Sa5.doit()"
      ],
      "metadata": {
        "colab": {
          "base_uri": "https://localhost:8080/",
          "height": 39
        },
        "id": "H-QpPRpstK6u",
        "outputId": "66eca80f-9004-432d-955a-c3a55ff6024b"
      },
      "execution_count": 42,
      "outputs": [
        {
          "output_type": "execute_result",
          "data": {
            "text/plain": [
              "3*exp(a)"
            ],
            "text/latex": "$\\displaystyle 3 e^{a}$"
          },
          "metadata": {},
          "execution_count": 42
        }
      ]
    },
    {
      "cell_type": "code",
      "source": [
        "Sa6=sy.Sum(1/(n**a),(n,1,sy.oo))\n",
        "Sa6"
      ],
      "metadata": {
        "colab": {
          "base_uri": "https://localhost:8080/",
          "height": 66
        },
        "id": "GWCesBD6uNFi",
        "outputId": "1f7a7f2a-92b2-4323-9e6a-68742760e7e5"
      },
      "execution_count": 43,
      "outputs": [
        {
          "output_type": "execute_result",
          "data": {
            "text/plain": [
              "Sum(n**(-a), (n, 1, oo))"
            ],
            "text/latex": "$\\displaystyle \\sum_{n=1}^{\\infty} n^{- a}$"
          },
          "metadata": {},
          "execution_count": 43
        }
      ]
    },
    {
      "cell_type": "code",
      "source": [
        "Sa6.doit()"
      ],
      "metadata": {
        "colab": {
          "base_uri": "https://localhost:8080/",
          "height": 68
        },
        "id": "6k5ZIHWguWSf",
        "outputId": "d4549cb0-e9cb-4c89-ff0d-a403f598731b"
      },
      "execution_count": 44,
      "outputs": [
        {
          "output_type": "execute_result",
          "data": {
            "text/plain": [
              "Piecewise((zeta(a), a > 1), (Sum(n**(-a), (n, 1, oo)), True))"
            ],
            "text/latex": "$\\displaystyle \\begin{cases} \\zeta\\left(a\\right) & \\text{for}\\: a > 1 \\\\\\sum_{n=1}^{\\infty} n^{- a} & \\text{otherwise} \\end{cases}$"
          },
          "metadata": {},
          "execution_count": 44
        }
      ]
    },
    {
      "cell_type": "code",
      "source": [
        "k=sy.symbols(\"k\")\n",
        "k"
      ],
      "metadata": {
        "colab": {
          "base_uri": "https://localhost:8080/",
          "height": 39
        },
        "id": "WYEAknJLwQHs",
        "outputId": "1ca23710-12e2-4660-bd76-04a636f232ff"
      },
      "execution_count": 46,
      "outputs": [
        {
          "output_type": "execute_result",
          "data": {
            "text/plain": [
              "k"
            ],
            "text/latex": "$\\displaystyle k$"
          },
          "metadata": {},
          "execution_count": 46
        }
      ]
    },
    {
      "cell_type": "code",
      "source": [
        "Sa7=sy.Sum(2/(3**k),(k,n,sy.oo))\n",
        "Sa7"
      ],
      "metadata": {
        "colab": {
          "base_uri": "https://localhost:8080/",
          "height": 67
        },
        "id": "LKZQBuSUwIuc",
        "outputId": "15825b2c-b46d-45a7-8dc0-381e694dd754"
      },
      "execution_count": 48,
      "outputs": [
        {
          "output_type": "execute_result",
          "data": {
            "text/plain": [
              "Sum(2/3**k, (k, n, oo))"
            ],
            "text/latex": "$\\displaystyle \\sum_{k=n}^{\\infty} 2 \\cdot 3^{- k}$"
          },
          "metadata": {},
          "execution_count": 48
        }
      ]
    },
    {
      "cell_type": "code",
      "source": [
        "Sa7.doit()"
      ],
      "metadata": {
        "colab": {
          "base_uri": "https://localhost:8080/",
          "height": 37
        },
        "id": "RoiPRS2Fwgwr",
        "outputId": "12796bbf-6153-4c24-e2e0-65b3c667de69"
      },
      "execution_count": 49,
      "outputs": [
        {
          "output_type": "execute_result",
          "data": {
            "text/plain": [
              "3/3**n"
            ],
            "text/latex": "$\\displaystyle 3 \\cdot 3^{- n}$"
          },
          "metadata": {},
          "execution_count": 49
        }
      ]
    },
    {
      "cell_type": "code",
      "source": [
        "sy.solve(Sa7.doit()-1/3)"
      ],
      "metadata": {
        "colab": {
          "base_uri": "https://localhost:8080/"
        },
        "id": "9JQl64rjwoi8",
        "outputId": "cb139c71-d9c0-4138-8c8c-bf170212ae9b"
      },
      "execution_count": 50,
      "outputs": [
        {
          "output_type": "execute_result",
          "data": {
            "text/plain": [
              "[2.00000000000000]"
            ]
          },
          "metadata": {},
          "execution_count": 50
        }
      ]
    },
    {
      "cell_type": "code",
      "source": [
        "p=sy.symbols(\"p\")\n",
        "p"
      ],
      "metadata": {
        "colab": {
          "base_uri": "https://localhost:8080/",
          "height": 39
        },
        "id": "8r4zCEaixNrv",
        "outputId": "d7ea5419-2a24-4804-cfae-3c0bb5fbbe67"
      },
      "execution_count": 51,
      "outputs": [
        {
          "output_type": "execute_result",
          "data": {
            "text/plain": [
              "p"
            ],
            "text/latex": "$\\displaystyle p$"
          },
          "metadata": {},
          "execution_count": 51
        }
      ]
    },
    {
      "cell_type": "code",
      "source": [
        "Sa8=sy.Sum(p**n/(sy.factorial(n)),(n,0,sy.oo))\n",
        "Sa8"
      ],
      "metadata": {
        "colab": {
          "base_uri": "https://localhost:8080/",
          "height": 66
        },
        "id": "-TxCyJ5WxE2e",
        "outputId": "58da1c56-3428-4d52-f3ba-e97e54f8ba99"
      },
      "execution_count": 52,
      "outputs": [
        {
          "output_type": "execute_result",
          "data": {
            "text/plain": [
              "Sum(p**n/factorial(n), (n, 0, oo))"
            ],
            "text/latex": "$\\displaystyle \\sum_{n=0}^{\\infty} \\frac{p^{n}}{n!}$"
          },
          "metadata": {},
          "execution_count": 52
        }
      ]
    },
    {
      "cell_type": "code",
      "source": [
        "Sa8.doit()"
      ],
      "metadata": {
        "colab": {
          "base_uri": "https://localhost:8080/",
          "height": 39
        },
        "id": "BuTk33eAxk-9",
        "outputId": "86c6db9c-603f-4390-a177-92f144daf603"
      },
      "execution_count": 53,
      "outputs": [
        {
          "output_type": "execute_result",
          "data": {
            "text/plain": [
              "exp(p)"
            ],
            "text/latex": "$\\displaystyle e^{p}$"
          },
          "metadata": {},
          "execution_count": 53
        }
      ]
    },
    {
      "cell_type": "code",
      "source": [
        "sy.solve(sy.exp(p)-3)"
      ],
      "metadata": {
        "colab": {
          "base_uri": "https://localhost:8080/"
        },
        "id": "8z_tjS-kxt3q",
        "outputId": "c50bfcd6-eb8c-4127-d2c6-9728f3a8af1d"
      },
      "execution_count": 54,
      "outputs": [
        {
          "output_type": "execute_result",
          "data": {
            "text/plain": [
              "[log(3)]"
            ]
          },
          "metadata": {},
          "execution_count": 54
        }
      ]
    },
    {
      "cell_type": "code",
      "source": [
        "sy.log(3).evalf()"
      ],
      "metadata": {
        "colab": {
          "base_uri": "https://localhost:8080/",
          "height": 37
        },
        "id": "PN605Xf5yFSc",
        "outputId": "c5ccc21b-fa93-4510-8a49-7b2ca02f1e6e"
      },
      "execution_count": 57,
      "outputs": [
        {
          "output_type": "execute_result",
          "data": {
            "text/plain": [
              "1.09861228866811"
            ],
            "text/latex": "$\\displaystyle 1.09861228866811$"
          },
          "metadata": {},
          "execution_count": 57
        }
      ]
    },
    {
      "cell_type": "code",
      "source": [
        "round(sy.log(3).evalf(),3)"
      ],
      "metadata": {
        "colab": {
          "base_uri": "https://localhost:8080/",
          "height": 37
        },
        "id": "o7gUovGuySoB",
        "outputId": "5e87d65c-af7d-499c-bde2-9f3dacfa7a26"
      },
      "execution_count": 62,
      "outputs": [
        {
          "output_type": "execute_result",
          "data": {
            "text/plain": [
              "1.099"
            ],
            "text/latex": "$\\displaystyle 1.099$"
          },
          "metadata": {},
          "execution_count": 62
        }
      ]
    },
    {
      "cell_type": "code",
      "source": [
        "Sa9=sy.Sum((3*a)**(k+1)/2,(k,1,sy.oo))\n",
        "Sa9"
      ],
      "metadata": {
        "colab": {
          "base_uri": "https://localhost:8080/",
          "height": 67
        },
        "id": "9e87wLhSzr_L",
        "outputId": "eaf546e5-fbe9-44e8-925d-96280f4f5587"
      },
      "execution_count": 63,
      "outputs": [
        {
          "output_type": "execute_result",
          "data": {
            "text/plain": [
              "Sum((3*a)**(k + 1)/2, (k, 1, oo))"
            ],
            "text/latex": "$\\displaystyle \\sum_{k=1}^{\\infty} \\frac{\\left(3 a\\right)^{k + 1}}{2}$"
          },
          "metadata": {},
          "execution_count": 63
        }
      ]
    },
    {
      "cell_type": "code",
      "source": [
        "Sa9.doit()"
      ],
      "metadata": {
        "colab": {
          "base_uri": "https://localhost:8080/",
          "height": 86
        },
        "id": "sQtq2LGo0DE5",
        "outputId": "0d69a025-583c-461e-a28c-ad3773b66e3d"
      },
      "execution_count": 64,
      "outputs": [
        {
          "output_type": "execute_result",
          "data": {
            "text/plain": [
              "3*a*Piecewise((3*a/(1 - 3*a), Abs(a) < 1/3), (Sum(3**k*a**k, (k, 1, oo)), True))/2"
            ],
            "text/latex": "$\\displaystyle \\frac{3 a \\left(\\begin{cases} \\frac{3 a}{1 - 3 a} & \\text{for}\\: \\left|{a}\\right| < \\frac{1}{3} \\\\\\sum_{k=1}^{\\infty} 3^{k} a^{k} & \\text{otherwise} \\end{cases}\\right)}{2}$"
          },
          "metadata": {},
          "execution_count": 64
        }
      ]
    },
    {
      "cell_type": "code",
      "source": [
        "sy.solve(abs(a)<1/3)"
      ],
      "metadata": {
        "colab": {
          "base_uri": "https://localhost:8080/",
          "height": 39
        },
        "id": "pm8HIjl90VJQ",
        "outputId": "60812887-1672-4022-ab11-f09166b60eda"
      },
      "execution_count": 66,
      "outputs": [
        {
          "output_type": "execute_result",
          "data": {
            "text/plain": [
              "(-0.333333333333333 < a) & (a < 0.333333333333333)"
            ],
            "text/latex": "$\\displaystyle -0.333333333333333 < a \\wedge a < 0.333333333333333$"
          },
          "metadata": {},
          "execution_count": 66
        }
      ]
    },
    {
      "cell_type": "code",
      "source": [
        "(-1/3,1/3)"
      ],
      "metadata": {
        "id": "Sgp_fBVy0iwc"
      },
      "execution_count": null,
      "outputs": []
    }
  ]
}